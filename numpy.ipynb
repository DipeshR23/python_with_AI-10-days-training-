{
 "cells": [
  {
   "cell_type": "code",
   "execution_count": 1,
   "id": "26928f69-9547-43ad-a886-8e863faa85df",
   "metadata": {},
   "outputs": [
    {
     "name": "stdout",
     "output_type": "stream",
     "text": [
      " dipesh rijal \n"
     ]
    }
   ],
   "source": [
    "print(\" dipesh rijal \")"
   ]
  },
  {
   "cell_type": "markdown",
   "id": "3565973e-f5e7-4370-8d79-75f9cf58ef8d",
   "metadata": {},
   "source": [
    "#learn numpy day1"
   ]
  },
  {
   "cell_type": "code",
   "execution_count": 2,
   "id": "e8654994-1ede-43ef-8987-eadd7529b636",
   "metadata": {},
   "outputs": [],
   "source": [
    "import numpy as np\n"
   ]
  },
  {
   "cell_type": "markdown",
   "id": "0956d0da-f287-40ed-8d9e-278916c84246",
   "metadata": {},
   "source": [
    "#creating array using numpy"
   ]
  },
  {
   "cell_type": "code",
   "execution_count": 3,
   "id": "c6c80068-522f-484c-838a-4b44e098e2c3",
   "metadata": {},
   "outputs": [],
   "source": [
    "array1 = np.array([1,2,3,4,5])\n",
    "array2 = np.arange(1,11)\n"
   ]
  },
  {
   "cell_type": "code",
   "execution_count": 4,
   "id": "ac12ccc8-81d1-421d-b7fa-fc9423d704a0",
   "metadata": {},
   "outputs": [
    {
     "name": "stdout",
     "output_type": "stream",
     "text": [
      "[ 1  2  3  4  5  6  7  8  9 10]\n",
      "<class 'numpy.ndarray'>\n",
      "1\n",
      "2\n",
      "3\n",
      "4\n",
      "5\n",
      "6\n",
      "7\n",
      "8\n",
      "9\n",
      "10\n"
     ]
    }
   ],
   "source": [
    "print(array2)\n",
    "print(type(array1))\n",
    "for i in array2:\n",
    "    print(i)"
   ]
  },
  {
   "cell_type": "code",
   "execution_count": 5,
   "id": "28482b70-516e-4e93-96f7-055c8aaacaac",
   "metadata": {},
   "outputs": [
    {
     "name": "stdout",
     "output_type": "stream",
     "text": [
      "[1, 2, 3, 4, 5]\n",
      "<class 'list'>\n",
      "[1 2 3 4 5]\n"
     ]
    }
   ],
   "source": [
    "list1 = [1,2,3,4,5]\n",
    "print (list1)\n",
    "print(type(list1))\n",
    "# convert list into array\n",
    "c_list = np.array(list1)\n",
    "print(c_list)"
   ]
  },
  {
   "cell_type": "code",
   "execution_count": 6,
   "id": "0b21a402-1add-45a9-bd34-7b7231633cbe",
   "metadata": {},
   "outputs": [
    {
     "name": "stdout",
     "output_type": "stream",
     "text": [
      "[1, 2, 3, 4, 5, 6, 7, 8, 9, 10]\n",
      "1\n",
      "2\n",
      "3\n",
      "4\n",
      "5\n",
      "6\n",
      "7\n",
      "8\n",
      "9\n",
      "10\n"
     ]
    }
   ],
   "source": [
    "#generate 1 to 10 elements in python and list \n",
    "list_range = [i for i in range (1,11)]\n",
    "print (list_range)\n",
    "for i in list_range:\n",
    "    print(i)"
   ]
  },
  {
   "cell_type": "markdown",
   "id": "627a1cdc-c4ef-4c8c-80b8-552bd879a856",
   "metadata": {},
   "source": [
    "convert array to list\n",
    "\n"
   ]
  },
  {
   "cell_type": "code",
   "execution_count": 7,
   "id": "e4441678-359c-45e0-b063-b3392f1c8cf5",
   "metadata": {},
   "outputs": [
    {
     "name": "stdout",
     "output_type": "stream",
     "text": [
      "[1, 2, 3, 4, 5]\n",
      "[1 2 3 4 5]\n"
     ]
    }
   ],
   "source": [
    "array1 = np.array([1,2,3,4,5])\n",
    "c_list = array1.tolist()\n",
    "print(c_list)\n",
    "print(array1)"
   ]
  },
  {
   "cell_type": "markdown",
   "id": "cef6f0f4-e8e9-4cd4-8e3a-9cf115e28edb",
   "metadata": {},
   "source": [
    "2d array"
   ]
  },
  {
   "cell_type": "code",
   "execution_count": 8,
   "id": "663734dd-5505-4d59-8723-da0bb551f48a",
   "metadata": {},
   "outputs": [
    {
     "name": "stdout",
     "output_type": "stream",
     "text": [
      "[[1 2 3]\n",
      " [3 4 5]]\n",
      "2\n"
     ]
    }
   ],
   "source": [
    "array_2d = np.array([[1,2,3],[3,4,5]])\n",
    "print(array_2d)\n",
    "print(array_2d.ndim)       \n",
    "\n"
   ]
  },
  {
   "cell_type": "markdown",
   "id": "c3c278fd-5ab6-4632-9394-d710b5493b9f",
   "metadata": {},
   "source": [
    "using random in numpy"
   ]
  },
  {
   "cell_type": "code",
   "execution_count": 9,
   "id": "064e7f6c-60ea-4135-a7c8-2c9b8a5b818d",
   "metadata": {},
   "outputs": [],
   "source": [
    "#rand      generate random values between 0 to 1 \n",
    "#randn     generate the random values close to 0\n",
    "#randint   generate the random integer with in the range specified \n"
   ]
  },
  {
   "cell_type": "code",
   "execution_count": 10,
   "id": "9627ff82-ac12-4de7-b024-a7c9b5c1a7a7",
   "metadata": {},
   "outputs": [
    {
     "name": "stdout",
     "output_type": "stream",
     "text": [
      "[0.90139808 0.00643657 0.71596331 0.38197584]\n"
     ]
    }
   ],
   "source": [
    "rand_array = np.random.rand(4)\n",
    "print(rand_array)"
   ]
  },
  {
   "cell_type": "code",
   "execution_count": 11,
   "id": "a1e2afa8-47a0-42e9-9490-ce0b8865d49a",
   "metadata": {},
   "outputs": [
    {
     "name": "stdout",
     "output_type": "stream",
     "text": [
      "[-0.30635106  1.99346793 -1.07198308]\n"
     ]
    }
   ],
   "source": [
    "randn_array = np.random.randn(3)\n",
    "print(randn_array)"
   ]
  },
  {
   "cell_type": "code",
   "execution_count": 12,
   "id": "687943eb-b63e-4ce6-a522-c89536c334d1",
   "metadata": {},
   "outputs": [
    {
     "name": "stdout",
     "output_type": "stream",
     "text": [
      "[[81 41 10]\n",
      " [ 3 35 69]\n",
      " [24 82 54]]\n"
     ]
    }
   ],
   "source": [
    "randint_array = np.random.randint(0,100, size = [3,3])      # ----(start=0 , stop=100 , size=5)\n",
    "print(randint_array)"
   ]
  },
  {
   "cell_type": "code",
   "execution_count": 13,
   "id": "40e41b62-ebb6-4efa-add8-977d12f875bc",
   "metadata": {},
   "outputs": [
    {
     "name": "stdout",
     "output_type": "stream",
     "text": [
      "[[ 0.85148385 -0.48990736 -0.16310885 -1.17853367]\n",
      " [ 1.59554931 -0.50827856  0.04682924  0.78311093]\n",
      " [-0.03971795 -0.59866746  0.35451597  0.17145283]]\n"
     ]
    }
   ],
   "source": [
    "# #print 2d array using rand \n",
    "# rand_arr = np.random.rand(6,8)  # row -6 , column -8\n",
    "# print(rand_arr)\n",
    "\n",
    "rand_arr1 = np.random.randn(3,4) \n",
    "print(rand_arr1)\n",
    "\n",
    "\n"
   ]
  },
  {
   "cell_type": "markdown",
   "id": "605bb08f-1ff1-4f12-905b-8cc7a122dc87",
   "metadata": {},
   "source": [
    "dimension in array "
   ]
  },
  {
   "cell_type": "code",
   "execution_count": 20,
   "id": "c482e73d-ba89-4541-b70d-d8283a7e2857",
   "metadata": {},
   "outputs": [
    {
     "name": "stdout",
     "output_type": "stream",
     "text": [
      "[[[1 2 2 4]\n",
      "  [1 2 3 4]]\n",
      "\n",
      " [[1 2 3 4]\n",
      "  [1 6 7 8]]]\n",
      "3\n"
     ]
    }
   ],
   "source": [
    "array1 = np.array([[[1,2,2,4], [1,2,3,4]],[[1,2,3,4],[1,6,7,8]]])\n",
    "print(array1)\n",
    "print(array1.ndim)       #for check dimension of array .ndim\n",
    "\n"
   ]
  },
  {
   "cell_type": "code",
   "execution_count": 24,
   "id": "ce8b79c5-d0d4-4982-9fbe-d8d4255cbfa5",
   "metadata": {},
   "outputs": [
    {
     "name": "stdout",
     "output_type": "stream",
     "text": [
      "[[[[1 2 2 4]]]]\n",
      "4\n"
     ]
    }
   ],
   "source": [
    "#to make the array dimension by desire\n",
    "#ndmin           --------> for add desire dimension\n",
    "array_d = np.array([1,2,2,4] , ndmin=4)\n",
    "print(array_d)\n",
    "print(array_d.ndim)       #for check dimension of array .ndim\n",
    "\n"
   ]
  },
  {
   "cell_type": "markdown",
   "id": "b0e28e82-f15a-4162-a0cc-d19639886aec",
   "metadata": {},
   "source": [
    "some functions in numoy"
   ]
  },
  {
   "cell_type": "code",
   "execution_count": 35,
   "id": "38b4bec8-d30e-422a-83ba-30ad1e49bdd3",
   "metadata": {},
   "outputs": [
    {
     "name": "stdout",
     "output_type": "stream",
     "text": [
      "[[0. 0.]\n",
      " [0. 0.]]\n",
      "[[1. 1.]\n",
      " [1. 1.]]\n"
     ]
    }
   ],
   "source": [
    "#zeros\n",
    "#one\n",
    "#identity\n",
    "zero_arr = np.zeros([2,2])\n",
    "print(zero_arr)\n",
    "\n",
    "###\n",
    "zero_arr1 = np.ones([2,2])\n",
    "print(zero_arr1)\n",
    "\n"
   ]
  },
  {
   "cell_type": "code",
   "execution_count": 37,
   "id": "a63f7be2-08d2-4811-856f-856ef2ec9b24",
   "metadata": {},
   "outputs": [
    {
     "name": "stdout",
     "output_type": "stream",
     "text": [
      "[[1. 0. 0. 0. 0. 0. 0. 0. 0. 0.]\n",
      " [0. 1. 0. 0. 0. 0. 0. 0. 0. 0.]\n",
      " [0. 0. 1. 0. 0. 0. 0. 0. 0. 0.]\n",
      " [0. 0. 0. 1. 0. 0. 0. 0. 0. 0.]\n",
      " [0. 0. 0. 0. 1. 0. 0. 0. 0. 0.]\n",
      " [0. 0. 0. 0. 0. 1. 0. 0. 0. 0.]\n",
      " [0. 0. 0. 0. 0. 0. 1. 0. 0. 0.]\n",
      " [0. 0. 0. 0. 0. 0. 0. 1. 0. 0.]\n",
      " [0. 0. 0. 0. 0. 0. 0. 0. 1. 0.]\n",
      " [0. 0. 0. 0. 0. 0. 0. 0. 0. 1.]]\n"
     ]
    }
   ],
   "source": [
    "#identity matrix            ------------> .eye\n",
    "zero_arr1 = np.eye(10)\n",
    "print(zero_arr1)\n"
   ]
  },
  {
   "cell_type": "code",
   "execution_count": 44,
   "id": "b46c398e-6716-4a4a-8f09-246e14843680",
   "metadata": {},
   "outputs": [
    {
     "name": "stdout",
     "output_type": "stream",
     "text": [
      "[2 3 3 5]\n",
      "1\n",
      "sum of arr1 and arr2 = [2 3 6 9]\n",
      "sub of arr1 and arr2 = [ 0  1  0 -1]\n",
      "mul of arr1 and arr2 = [ 1  2  9 20]\n",
      "div of arr1 and arr2 = [1.  2.  1.  0.8]\n"
     ]
    }
   ],
   "source": [
    "#perform additional operation in numpy\n",
    "array_d = np.array([1,2,2,4])\n",
    "\n",
    "print(1+array_d)\n",
    "print(array_d.ndim)   \n",
    "\n",
    "#not work on list \n",
    "# list1 = [1,2,3,4]\n",
    "# print(2+ list1)\n",
    "\n",
    "\n",
    "#sum of two array\n",
    "arr1 = np.array([1,2,3,4])\n",
    "arr2 = np.array([1,1,3,5])\n",
    "print(\"sum of arr1 and arr2 =\", arr1+arr2)\n",
    "\n",
    "print(\"sub of arr1 and arr2 =\", arr1-arr2)\n",
    "\n",
    "print(\"mul of arr1 and arr2 =\", arr1*arr2)\n",
    "\n",
    "print(\"div of arr1 and arr2 =\", arr1/arr2)"
   ]
  },
  {
   "cell_type": "code",
   "execution_count": 46,
   "id": "a3f399c1-fd92-4511-9290-5f6abe7ad244",
   "metadata": {},
   "outputs": [
    {
     "name": "stdout",
     "output_type": "stream",
     "text": [
      "dsfref\n"
     ]
    }
   ],
   "source": [
    "print(\"dsfref\")"
   ]
  },
  {
   "cell_type": "code",
   "execution_count": 47,
   "id": "de2bbffe-ed3e-494f-876d-635410d1ee34",
   "metadata": {},
   "outputs": [
    {
     "name": "stdout",
     "output_type": "stream",
     "text": [
      "dsfref\n"
     ]
    }
   ],
   "source": [
    "print(\"dsfref\")"
   ]
  },
  {
   "cell_type": "code",
   "execution_count": 56,
   "id": "4b05ce76-ef19-406e-8f3e-5d5ca9b66235",
   "metadata": {},
   "outputs": [
    {
     "name": "stdout",
     "output_type": "stream",
     "text": [
      "[[2 4 3]\n",
      " [4 2 3]\n",
      " [1 4 3]]\n",
      "[[1 5 5]\n",
      " [2 4 3]\n",
      " [5 3 5]]\n",
      "[[3 9 8]\n",
      " [6 6 6]\n",
      " [6 7 8]]\n",
      "[[ 2 20 15]\n",
      " [ 8  8  9]\n",
      " [ 5 12 15]]\n",
      "[[ 1 -1 -2]\n",
      " [ 2 -2  0]\n",
      " [-4  1 -2]]\n",
      "[[2.         0.8        0.6       ]\n",
      " [2.         0.5        1.        ]\n",
      " [0.2        1.33333333 0.6       ]]\n"
     ]
    }
   ],
   "source": [
    "arr1 = np.random.randint(1,5,size=[3,3])\n",
    "arr2 = np.random.randint(1,6,size=[3,3])\n",
    "\n",
    "print(arr1)\n",
    "print(arr2)\n",
    "print(arr1 + arr2)\n",
    "print(arr1 * arr2)\n",
    "print(arr1 - arr2)\n",
    "print(arr1 / arr2)"
   ]
  },
  {
   "cell_type": "markdown",
   "id": "1b8712f9-c7bc-4394-8860-1563b94909e6",
   "metadata": {},
   "source": [
    "slicing operation in "
   ]
  },
  {
   "cell_type": "code",
   "execution_count": 61,
   "id": "953d03aa-8809-4493-bcd0-d298887d8b3f",
   "metadata": {},
   "outputs": [
    {
     "name": "stdout",
     "output_type": "stream",
     "text": [
      "[0 1 2 3 4 5 6 7 8 9]\n",
      "[5 6 7]\n"
     ]
    }
   ],
   "source": [
    "#slice (5,6,7)\n",
    "arr1 = np.arange(10)\n",
    "print(arr1)\n",
    "\n",
    "#arrayname[start_value : stop_value: step]\n",
    "print(arr1 [5:8])"
   ]
  },
  {
   "cell_type": "code",
   "execution_count": 69,
   "id": "afff2e07-25cc-464e-b882-d6045534179d",
   "metadata": {},
   "outputs": [
    {
     "name": "stdout",
     "output_type": "stream",
     "text": [
      "[ 0  2  4  6  8 10 12 14 16 18 20]\n"
     ]
    }
   ],
   "source": [
    "#slice \n",
    "arr1 = np.arange(21)\n",
    "\n",
    "\n",
    "print(arr1 [0:21:2])       #:2 skip one element and print next \n"
   ]
  },
  {
   "cell_type": "code",
   "execution_count": 84,
   "id": "7b49b7d4-5953-44fc-b067-e3b0ae601bc7",
   "metadata": {},
   "outputs": [
    {
     "name": "stdout",
     "output_type": "stream",
     "text": [
      "[[1 2 3 4]\n",
      " [3 4 5 6]\n",
      " [3 4 5 6]]\n",
      "[[5 6]\n",
      " [5 6]]\n"
     ]
    }
   ],
   "source": [
    "#slicing in 2d array  \n",
    "arr1 = np.array([[1,2,3,4],[3,4,5,6],[3,4,5,6]])\n",
    "\n",
    "\n",
    "\n",
    "print(arr1) \n",
    "print(arr1 [1:3,2:4]) "
   ]
  },
  {
   "cell_type": "markdown",
   "id": "6c616130-3bd5-4ae2-a927-4408f2c904f1",
   "metadata": {},
   "source": [
    "shaping and reshaping in numpy array"
   ]
  },
  {
   "cell_type": "code",
   "execution_count": 86,
   "id": "778421b3-5a80-4cdf-9459-bd4fbc1c9ca8",
   "metadata": {},
   "outputs": [
    {
     "data": {
      "text/plain": [
       "(2, 4)"
      ]
     },
     "execution_count": 86,
     "metadata": {},
     "output_type": "execute_result"
    }
   ],
   "source": [
    "arr2d = np.array([[1,2,3,4],[1,2,3,4]])\n",
    "arr2d.shape\n"
   ]
  },
  {
   "cell_type": "code",
   "execution_count": 96,
   "id": "2a8874ee-4ae2-48dc-b2d9-6e2491e94a10",
   "metadata": {},
   "outputs": [
    {
     "data": {
      "text/plain": [
       "array([[1, 2, 3],\n",
       "       [4, 5, 6],\n",
       "       [7, 8, 9]])"
      ]
     },
     "execution_count": 96,
     "metadata": {},
     "output_type": "execute_result"
    }
   ],
   "source": [
    "#reshaping \n",
    "\n",
    "arr1d = np.array([1,2,3,4,5,6,7,8,9])\n",
    "arr1d.reshape(3,3)"
   ]
  },
  {
   "cell_type": "code",
   "execution_count": 101,
   "id": "44805a0c-cb5a-4a3b-a973-38fc90628762",
   "metadata": {},
   "outputs": [
    {
     "data": {
      "text/plain": [
       "array([[ 1.75480498,  1.39091315,  1.23974576],\n",
       "       [ 1.26874235,  1.52444613,  0.26788229],\n",
       "       [ 1.55878986, -0.92185718, -1.79142681],\n",
       "       [ 1.28416426,  1.3243318 , -0.93250467]])"
      ]
     },
     "execution_count": 101,
     "metadata": {},
     "output_type": "execute_result"
    }
   ],
   "source": [
    "arr1 = np.random.randni(12)\n",
    "arr1.reshape(4,3)\n",
    "\n"
   ]
  },
  {
   "cell_type": "code",
   "execution_count": 103,
   "id": "ba1b8251-bd32-4930-b629-0a35c6e08eef",
   "metadata": {},
   "outputs": [
    {
     "data": {
      "text/plain": [
       "array([ 1.75480498,  1.39091315,  1.23974576,  1.26874235,  1.52444613,\n",
       "        0.26788229,  1.55878986, -0.92185718, -1.79142681,  1.28416426,\n",
       "        1.3243318 , -0.93250467])"
      ]
     },
     "execution_count": 103,
     "metadata": {},
     "output_type": "execute_result"
    }
   ],
   "source": [
    "arr1.reshape(12)"
   ]
  },
  {
   "cell_type": "code",
   "execution_count": 107,
   "id": "f3d0d2a2-22bc-47fd-b477-f921fc025ebe",
   "metadata": {},
   "outputs": [
    {
     "data": {
      "text/plain": [
       "matrix([[21, 27, 33],\n",
       "        [54, 69, 84]])"
      ]
     },
     "execution_count": 107,
     "metadata": {},
     "output_type": "execute_result"
    }
   ],
   "source": [
    "#matrix\n",
    "mat1 = np.matrix([[1,2,3],[4,5,6]])                #----> 2,3 * 3,2 for matrix multiplication\n",
    "mat2 = np.matrix([[3,4,5],[6,7,8],[2,3,4]])\n",
    "mat1*mat2"
   ]
  },
  {
   "cell_type": "code",
   "execution_count": null,
   "id": "388bc48c-7bca-4528-b9bb-5ca2295a7b63",
   "metadata": {},
   "outputs": [],
   "source": []
  }
 ],
 "metadata": {
  "kernelspec": {
   "display_name": "Python 3 (ipykernel)",
   "language": "python",
   "name": "python3"
  },
  "language_info": {
   "codemirror_mode": {
    "name": "ipython",
    "version": 3
   },
   "file_extension": ".py",
   "mimetype": "text/x-python",
   "name": "python",
   "nbconvert_exporter": "python",
   "pygments_lexer": "ipython3",
   "version": "3.12.7"
  }
 },
 "nbformat": 4,
 "nbformat_minor": 5
}
